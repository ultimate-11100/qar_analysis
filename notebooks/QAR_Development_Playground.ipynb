{
 "cells": [
  {
   "cell_type": "markdown",
   "metadata": {},
   "source": [
    "# QAR数据分析系统 - 开发测试环境\n",
    "\n",
    "这个Notebook用于本地开发和测试QAR系统的各个组件。"
   ]
  },
  {
   "cell_type": "markdown",
   "metadata": {},
   "source": [
    "## 1. 环境设置"
   ]
  },
  {
   "cell_type": "code",
   "execution_count": null,
   "metadata": {},
   "outputs": [],
   "source": [
    "import sys\n",
    "import os\n",
    "from pathlib import Path\n",
    "\n",
    "# 添加项目根目录到Python路径\n",
    "project_root = Path().absolute().parent\n",
    "src_path = project_root / \"src\"\n",
    "sys.path.insert(0, str(src_path))\n",
    "\n",
    "print(f\"项目根目录: {project_root}\")\n",
    "print(f\"源代码路径: {src_path}\")\n",
    "print(f\"Python版本: {sys.version}\")"
   ]
  },
  {
   "cell_type": "markdown",
   "metadata": {},
   "source": [
    "## 2. 检查依赖"
   ]
  },
  {
   "cell_type": "code",
   "execution_count": null,
   "metadata": {},
   "outputs": [],
   "source": [
    "# 检查关键依赖\n",
    "import torch\n",
    "import pandas as pd\n",
    "import numpy as np\n",
    "import plotly\n",
    "import fastapi\n",
    "import sklearn\n",
    "\n",
    "print(\"📦 依赖版本检查:\")\n",
    "print(f\"PyTorch: {torch.__version__} (CPU: {not torch.cuda.is_available()})\")\n",
    "print(f\"Pandas: {pd.__version__}\")\n",
    "print(f\"NumPy: {np.__version__}\")\n",
    "print(f\"Plotly: {plotly.__version__}\")\n",
    "print(f\"FastAPI: {fastapi.__version__}\")\n",
    "print(f\"Scikit-learn: {sklearn.__version__}\")"
   ]
  },
  {
   "cell_type": "markdown",
   "metadata": {},
   "source": [
    "## 3. 测试QAR模块导入"
   ]
  },
  {
   "cell_type": "code",
   "execution_count": null,
   "metadata": {},
   "outputs": [],
   "source": [
    "# 测试QAR模块导入\n",
    "try:\n",
    "    from api.main import app\n",
    "    print(\"✅ FastAPI应用导入成功\")\n",
    "except Exception as e:\n",
    "    print(f\"❌ FastAPI应用导入失败: {e}\")\n",
    "\n",
    "try:\n",
    "    from models.qar_data_generator import QARDataGenerator\n",
    "    print(\"✅ QAR数据生成器导入成功\")\n",
    "except Exception as e:\n",
    "    print(f\"❌ QAR数据生成器导入失败: {e}\")\n",
    "\n",
    "try:\n",
    "    from visualization.qar_visualizer import QARVisualizer\n",
    "    print(\"✅ QAR可视化器导入成功\")\n",
    "except Exception as e:\n",
    "    print(f\"❌ QAR可视化器导入失败: {e}\")"
   ]
  },
  {
   "cell_type": "markdown",
   "metadata": {},
   "source": [
    "## 4. 生成测试数据"
   ]
  },
  {
   "cell_type": "code",
   "execution_count": null,
   "metadata": {},
   "outputs": [],
   "source": [
    "# 生成测试数据\n",
    "from models.qar_data_generator import QARDataGenerator\n",
    "\n",
    "generator = QARDataGenerator()\n",
    "qar_data = generator.generate_flight_data(\n",
    "    flight_duration_minutes=10,\n",
    "    sampling_rate_hz=1.0,\n",
    "    anomaly_rate=0.05\n",
    ")\n",
    "\n",
    "print(f\"生成数据形状: {qar_data.shape}\")\n",
    "print(f\"数据列: {list(qar_data.columns)}\")\n",
    "print(\"\\n数据预览:\")\n",
    "qar_data.head()"
   ]
  },
  {
   "cell_type": "markdown",
   "metadata": {},
   "source": [
    "## 5. 数据可视化测试"
   ]
  },
  {
   "cell_type": "code",
   "execution_count": null,
   "metadata": {},
   "outputs": [],
   "source": [
    "# 测试数据可视化\n",
    "from visualization.qar_visualizer import QARVisualizer\n",
    "\n",
    "visualizer = QARVisualizer()\n",
    "\n",
    "# 创建时间序列图\n",
    "fig = visualizer.create_time_series_plot(qar_data)\n",
    "fig.show()\n",
    "\n",
    "print(\"✅ 时间序列图创建成功\")"
   ]
  },
  {
   "cell_type": "markdown",
   "metadata": {},
   "source": [
    "## 6. 异常检测测试"
   ]
  },
  {
   "cell_type": "code",
   "execution_count": null,
   "metadata": {},
   "outputs": [],
   "source": [
    "# 测试异常检测\n",
    "from models.anomaly_detector import AnomalyDetector\n",
    "\n",
    "detector = AnomalyDetector()\n",
    "anomalies = detector.detect_anomalies(qar_data)\n",
    "\n",
    "print(f\"检测到异常数量: {len(anomalies)}\")\n",
    "if len(anomalies) > 0:\n",
    "    print(\"异常样本:\")\n",
    "    print(anomalies.head())"
   ]
  },
  {
   "cell_type": "markdown",
   "metadata": {},
   "source": [
    "## 7. 性能分析"
   ]
  },
  {
   "cell_type": "code",
   "execution_count": null,
   "metadata": {},
   "outputs": [],
   "source": [
    "import time\n",
    "\n",
    "# 性能测试\n",
    "print(\"🚀 性能测试:\")\n",
    "\n",
    "# 数据生成性能\n",
    "start_time = time.time()\n",
    "large_data = generator.generate_flight_data(\n",
    "    flight_duration_minutes=60,\n",
    "    sampling_rate_hz=1.0\n",
    ")\n",
    "generation_time = time.time() - start_time\n",
    "print(f\"生成60分钟数据耗时: {generation_time:.2f}秒\")\n",
    "\n",
    "# 可视化性能\n",
    "start_time = time.time()\n",
    "fig = visualizer.create_time_series_plot(large_data)\n",
    "visualization_time = time.time() - start_time\n",
    "print(f\"创建可视化图表耗时: {visualization_time:.2f}秒\")\n",
    "\n",
    "# 异常检测性能\n",
    "start_time = time.time()\n",
    "anomalies = detector.detect_anomalies(large_data)\n",
    "detection_time = time.time() - start_time\n",
    "print(f\"异常检测耗时: {detection_time:.2f}秒\")"
   ]
  },
  {
   "cell_type": "markdown",
   "metadata": {},
   "source": [
    "## 8. API测试"
   ]
  },
  {
   "cell_type": "code",
   "execution_count": null,
   "metadata": {},
   "outputs": [],
   "source": [
    "import requests\n",
    "import json\n",
    "\n",
    "# 测试API (需要先启动服务器)\n",
    "base_url = \"http://127.0.0.1:8000\"\n",
    "\n",
    "try:\n",
    "    # 健康检查\n",
    "    response = requests.get(f\"{base_url}/health\", timeout=5)\n",
    "    if response.status_code == 200:\n",
    "        print(\"✅ API服务器连接正常\")\n",
    "        print(f\"健康状态: {response.json()}\")\n",
    "    else:\n",
    "        print(f\"❌ API服务器响应异常: {response.status_code}\")\n",
    "except requests.exceptions.ConnectionError:\n",
    "    print(\"❌ 无法连接到API服务器\")\n",
    "    print(\"💡 请先运行: python start_local.py\")\n",
    "except Exception as e:\n",
    "    print(f\"❌ API测试失败: {e}\")"
   ]
  },
  {
   "cell_type": "markdown",
   "metadata": {},
   "source": [
    "## 9. 开发工具"
   ]
  },
  {
   "cell_type": "code",
   "execution_count": null,
   "metadata": {},
   "outputs": [],
   "source": [
    "# 开发辅助工具\n",
    "def reload_modules():\n",
    "    \"\"\"重新加载模块\"\"\"\n",
    "    import importlib\n",
    "    modules_to_reload = [\n",
    "        'models.qar_data_generator',\n",
    "        'visualization.qar_visualizer',\n",
    "        'models.anomaly_detector'\n",
    "    ]\n",
    "    \n",
    "    for module_name in modules_to_reload:\n",
    "        try:\n",
    "            module = sys.modules.get(module_name)\n",
    "            if module:\n",
    "                importlib.reload(module)\n",
    "                print(f\"✅ 重新加载: {module_name}\")\n",
    "        except Exception as e:\n",
    "            print(f\"❌ 重新加载失败 {module_name}: {e}\")\n",
    "\n",
    "def clear_data():\n",
    "    \"\"\"清理数据变量\"\"\"\n",
    "    global qar_data, large_data, anomalies\n",
    "    del qar_data, large_data, anomalies\n",
    "    print(\"🧹 数据变量已清理\")\n",
    "\n",
    "print(\"🛠️ 开发工具已加载\")\n",
    "print(\"使用 reload_modules() 重新加载模块\")\n",
    "print(\"使用 clear_data() 清理数据变量\")"
   ]
  }
 ],
 "metadata": {
  "kernelspec": {
   "display_name": "Python 3",
   "language": "python",
   "name": "python3"
  },
  "language_info": {
   "codemirror_mode": {
    "name": "ipython",
    "version": 3
   },
   "file_extension": ".py",
   "mimetype": "text/x-python",
   "name": "python",
   "nbconvert_exporter": "python",
   "pygments_lexer": "ipython3",
   "version": "3.10.0"
  }
 },
 "nbformat": 4,
 "nbformat_minor": 4
}
