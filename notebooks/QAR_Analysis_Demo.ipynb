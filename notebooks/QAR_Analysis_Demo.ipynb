{
 "cells": [
  {
   "cell_type": "markdown",
   "metadata": {},
   "source": [
    "# QAR数据分析系统演示\n",
    "\n",
    "本notebook演示QAR数据分析系统的主要功能，包括数据生成、可视化、安全性分析和成本优化。"
   ]
  },
  {
   "cell_type": "markdown",
   "metadata": {},
   "source": [
    "## 1. 环境设置和导入"
   ]
  },
  {
   "cell_type": "code",
   "execution_count": null,
   "metadata": {},
   "outputs": [],
   "source": [
    "import sys\n",
    "import os\n",
    "import pandas as pd\n",
    "import numpy as np\n",
    "import matplotlib.pyplot as plt\n",
    "import seaborn as sns\n",
    "import warnings\n",
    "warnings.filterwarnings('ignore')\n",
    "\n",
    "# 添加src目录到路径\n",
    "sys.path.append('../src')\n",
    "\n",
    "# 导入自定义模块\n",
    "from data_generation.qar_simulator import QARDataSimulator\n",
    "from visualization.qar_visualizer import QARVisualizer\n",
    "from models.safety_models import AnomalyDetector, RiskAssessmentModel\n",
    "from models.optimization_models import FuelOptimizationModel\n",
    "from utils.data_processing import QARDataProcessor\n",
    "\n",
    "print(\"✅ 模块导入成功\")"
   ]
  },
  {
   "cell_type": "markdown",
   "metadata": {},
   "source": [
    "## 2. 生成QAR模拟数据"
   ]
  },
  {
   "cell_type": "code",
   "execution_count": null,
   "metadata": {},
   "outputs": [],
   "source": [
    "# 创建QAR数据模拟器\n",
    "simulator = QARDataSimulator(\n",
    "    flight_duration_minutes=90,  # 90分钟飞行\n",
    "    sampling_rate_hz=1.0         # 1Hz采样率\n",
    ")\n",
    "\n",
    "# 生成完整数据集\n",
    "qar_data = simulator.generate_complete_dataset()\n",
    "\n",
    "# 添加异常数据\n",
    "qar_data_with_anomalies = simulator.add_anomalies(qar_data, anomaly_rate=0.03)\n",
    "\n",
    "print(f\"生成了 {len(qar_data_with_anomalies)} 条QAR数据记录\")\n",
    "print(f\"数据列数: {len(qar_data_with_anomalies.columns)}\")\n",
    "print(f\"飞行阶段分布:\")\n",
    "print(qar_data_with_anomalies['FLIGHT_PHASE'].value_counts())"
   ]
  },
  {
   "cell_type": "markdown",
   "metadata": {},
   "source": [
    "## 3. 数据预览"
   ]
  },
  {
   "cell_type": "code",
   "execution_count": null,
   "metadata": {},
   "outputs": [],
   "source": [
    "# 显示数据基本信息\n",
    "print(\"数据基本统计:\")\n",
    "key_params = ['ALT_STD', 'IAS', 'ENG_N1_1', 'ENG_FUEL_FLOW_1', 'ATT_PITCH']\n",
    "display(qar_data_with_anomalies[key_params].describe())\n",
    "\n",
    "# 显示前几行数据\n",
    "print(\"\\n数据样本:\")\n",
    "display(qar_data_with_anomalies[key_params].head())"
   ]
  },
  {
   "cell_type": "markdown",
   "metadata": {},
   "source": [
    "## 4. 基础可视化分析"
   ]
  },
  {
   "cell_type": "code",
   "execution_count": null,
   "metadata": {},
   "outputs": [],
   "source": [
    "# 创建可视化器\n",
    "visualizer = QARVisualizer()\n",
    "\n",
    "# 绘制飞行阶段和高度剖面\n",
    "fig = visualizer.plot_flight_phases(qar_data_with_anomalies)\n",
    "fig.show()"
   ]
  },
  {
   "cell_type": "code",
   "execution_count": null,
   "metadata": {},
   "outputs": [],
   "source": [
    "# 绘制起飞参数趋势\n",
    "fig = visualizer.plot_takeoff_parameters(qar_data_with_anomalies)\n",
    "fig.show()"
   ]
  },
  {
   "cell_type": "code",
   "execution_count": null,
   "metadata": {},
   "outputs": [],
   "source": [
    "# 绘制参数分布\n",
    "fig = visualizer.plot_parameter_distributions(qar_data_with_anomalies)\n",
    "plt.show()"
   ]
  },
  {
   "cell_type": "code",
   "execution_count": null,
   "metadata": {},
   "outputs": [],
   "source": [
    "# 绘制相关性热力图\n",
    "fig = visualizer.plot_correlation_heatmap(qar_data_with_anomalies)\n",
    "plt.show()"
   ]
  },
  {
   "cell_type": "markdown",
   "metadata": {},
   "source": [
    "## 5. 安全性分析"
   ]
  },
  {
   "cell_type": "code",
   "execution_count": null,
   "metadata": {},
   "outputs": [],
   "source": [
    "# 异常检测\n",
    "anomaly_detector = AnomalyDetector(contamination=0.05)\n",
    "anomaly_detector.fit(qar_data_with_anomalies)\n",
    "\n",
    "# 预测异常\n",
    "anomaly_labels, anomaly_scores = anomaly_detector.predict(qar_data_with_anomalies)\n",
    "\n",
    "# 统计异常\n",
    "n_anomalies = np.sum(anomaly_labels == -1)\n",
    "anomaly_rate = n_anomalies / len(anomaly_labels)\n",
    "\n",
    "print(f\"检测到 {n_anomalies} 个异常点\")\n",
    "print(f\"异常率: {anomaly_rate:.2%}\")\n",
    "\n",
    "# 可视化异常分数\n",
    "plt.figure(figsize=(12, 6))\n",
    "plt.subplot(1, 2, 1)\n",
    "plt.plot(anomaly_scores)\n",
    "plt.title('异常分数时间序列')\n",
    "plt.xlabel('时间点')\n",
    "plt.ylabel('异常分数')\n",
    "\n",
    "plt.subplot(1, 2, 2)\n",
    "plt.hist(anomaly_scores, bins=50, alpha=0.7)\n",
    "plt.title('异常分数分布')\n",
    "plt.xlabel('异常分数')\n",
    "plt.ylabel('频次')\n",
    "\n",
    "plt.tight_layout()\n",
    "plt.show()"
   ]
  },
  {
   "cell_type": "code",
   "execution_count": null,
   "metadata": {},
   "outputs": [],
   "source": [
    "# 风险评估\n",
    "risk_assessor = RiskAssessmentModel()\n",
    "risk_df = risk_assessor.assess_safety_risks(qar_data_with_anomalies)\n",
    "safety_report = risk_assessor.generate_safety_report(risk_df)\n",
    "\n",
    "print(\"安全风险评估报告:\")\n",
    "print(f\"总记录数: {safety_report['total_records']}\")\n",
    "print(f\"高风险时段: {safety_report['high_risk_periods']}\")\n",
    "print(\"风险等级分布:\")\n",
    "for level, count in safety_report['risk_summary'].items():\n",
    "    print(f\"  {level}: {count}\")\n",
    "\n",
    "print(\"\\n风险因素统计:\")\n",
    "for factor, count in safety_report['risk_factors'].items():\n",
    "    print(f\"  {factor}: {count}\")"
   ]
  },
  {
   "cell_type": "code",
   "execution_count": null,
   "metadata": {},
   "outputs": [],
   "source": [
    "# 可视化风险分布\n",
    "plt.figure(figsize=(12, 8))\n",
    "\n",
    "# 风险等级分布\n",
    "plt.subplot(2, 2, 1)\n",
    "risk_counts = risk_df['RISK_LEVEL'].value_counts()\n",
    "plt.pie(risk_counts.values, labels=risk_counts.index, autopct='%1.1f%%')\n",
    "plt.title('风险等级分布')\n",
    "\n",
    "# 风险分数时间序列\n",
    "plt.subplot(2, 2, 2)\n",
    "plt.plot(risk_df['TOTAL_RISK_SCORE'])\n",
    "plt.title('风险分数时间序列')\n",
    "plt.xlabel('时间点')\n",
    "plt.ylabel('风险分数')\n",
    "\n",
    "# 各类风险因素\n",
    "plt.subplot(2, 2, 3)\n",
    "risk_factors = ['ALTITUDE_RISK', 'SPEED_RISK', 'ENGINE_TEMP_RISK', \n",
    "                'FUEL_FLOW_RISK', 'PITCH_RISK', 'ROLL_RISK']\n",
    "risk_counts = [risk_df[factor].sum() for factor in risk_factors]\n",
    "plt.bar(range(len(risk_factors)), risk_counts)\n",
    "plt.xticks(range(len(risk_factors)), [f.replace('_RISK', '') for f in risk_factors], rotation=45)\n",
    "plt.title('各类风险因素统计')\n",
    "plt.ylabel('风险次数')\n",
    "\n",
    "# 高风险时段\n",
    "plt.subplot(2, 2, 4)\n",
    "high_risk_mask = risk_df['RISK_LEVEL'].isin(['HIGH', 'CRITICAL'])\n",
    "plt.scatter(range(len(risk_df)), risk_df['ALT_STD'], \n",
    "           c=high_risk_mask, cmap='RdYlBu_r', alpha=0.6)\n",
    "plt.title('高风险时段与高度关系')\n",
    "plt.xlabel('时间点')\n",
    "plt.ylabel('高度 (ft)')\n",
    "\n",
    "plt.tight_layout()\n",
    "plt.show()"
   ]
  },
  {
   "cell_type": "markdown",
   "metadata": {},
   "source": [
    "## 6. 燃油优化分析"
   ]
  },
  {
   "cell_type": "code",
   "execution_count": null,
   "metadata": {},
   "outputs": [],
   "source": [
    "# 燃油优化模型\n",
    "fuel_optimizer = FuelOptimizationModel()\n",
    "fuel_optimizer.fit(qar_data_with_anomalies)\n",
    "\n",
    "# 预测燃油消耗\n",
    "predicted_fuel = fuel_optimizer.predict_fuel_consumption(qar_data_with_anomalies)\n",
    "actual_fuel = qar_data_with_anomalies['ENG_FUEL_FLOW_1'].values\n",
    "\n",
    "# 计算节省潜力\n",
    "fuel_savings = np.mean(actual_fuel) - np.mean(predicted_fuel)\n",
    "\n",
    "print(f\"平均实际燃油流量: {np.mean(actual_fuel):.2f} kg/h\")\n",
    "print(f\"平均预测最优燃油流量: {np.mean(predicted_fuel):.2f} kg/h\")\n",
    "print(f\"潜在燃油节省: {fuel_savings:.2f} kg/h ({fuel_savings/np.mean(actual_fuel)*100:.1f}%)\")"
   ]
  },
  {
   "cell_type": "code",
   "execution_count": null,
   "metadata": {},
   "outputs": [],
   "source": [
    "# 飞行剖面优化分析\n",
    "optimization_results = fuel_optimizer.optimize_flight_profile(qar_data_with_anomalies)\n",
    "\n",
    "if 'efficiency_analysis' in optimization_results:\n",
    "    print(\"各飞行阶段燃油效率分析:\")\n",
    "    for phase, metrics in optimization_results['efficiency_analysis'].items():\n",
    "        print(f\"\\n{phase}:\")\n",
    "        print(f\"  平均燃油流量: {metrics['avg_fuel_flow']:.2f} kg/h\")\n",
    "        print(f\"  平均速度: {metrics['avg_speed']:.2f} kt\")\n",
    "        print(f\"  平均高度: {metrics['avg_altitude']:.0f} ft\")\n",
    "        print(f\"  燃油效率: {metrics['fuel_efficiency']:.4f} kt/(kg/h)\")\n",
    "    \n",
    "    print(f\"\\n最高效率阶段: {optimization_results['best_efficiency_phase']}\")\n",
    "    print(f\"最低效率阶段: {optimization_results['worst_efficiency_phase']}\")\n",
    "    \n",
    "    if 'recommendations' in optimization_results:\n",
    "        print(\"\\n优化建议:\")\n",
    "        for rec in optimization_results['recommendations']:\n",
    "            print(f\"  • {rec}\")"
   ]
  },
  {
   "cell_type": "code",
   "execution_count": null,
   "metadata": {},
   "outputs": [],
   "source": [
    "# 可视化燃油分析\n",
    "plt.figure(figsize=(15, 10))\n",
    "\n",
    "# 实际vs预测燃油消耗\n",
    "plt.subplot(2, 3, 1)\n",
    "plt.plot(actual_fuel, label='实际燃油流量', alpha=0.7)\n",
    "plt.plot(predicted_fuel, label='预测最优燃油流量', alpha=0.7)\n",
    "plt.title('燃油消耗对比')\n",
    "plt.xlabel('时间点')\n",
    "plt.ylabel('燃油流量 (kg/h)')\n",
    "plt.legend()\n",
    "\n",
    "# 燃油节省潜力\n",
    "plt.subplot(2, 3, 2)\n",
    "fuel_diff = actual_fuel - predicted_fuel\n",
    "plt.plot(fuel_diff)\n",
    "plt.title('燃油节省潜力')\n",
    "plt.xlabel('时间点')\n",
    "plt.ylabel('节省量 (kg/h)')\n",
    "plt.axhline(y=0, color='r', linestyle='--', alpha=0.5)\n",
    "\n",
    "# 燃油效率vs高度\n",
    "plt.subplot(2, 3, 3)\n",
    "fuel_efficiency = qar_data_with_anomalies['TAS'] / (qar_data_with_anomalies['ENG_FUEL_FLOW_1'] + 1e-6)\n",
    "plt.scatter(qar_data_with_anomalies['ALT_STD'], fuel_efficiency, alpha=0.5)\n",
    "plt.title('燃油效率 vs 高度')\n",
    "plt.xlabel('高度 (ft)')\n",
    "plt.ylabel('燃油效率 (kt/(kg/h))')\n",
    "\n",
    "# 各阶段燃油消耗\n",
    "plt.subplot(2, 3, 4)\n",
    "phase_fuel = qar_data_with_anomalies.groupby('FLIGHT_PHASE')['ENG_FUEL_FLOW_1'].mean()\n",
    "plt.bar(range(len(phase_fuel)), phase_fuel.values)\n",
    "plt.xticks(range(len(phase_fuel)), phase_fuel.index, rotation=45)\n",
    "plt.title('各阶段平均燃油消耗')\n",
    "plt.ylabel('燃油流量 (kg/h)')\n",
    "\n",
    "# 燃油流量分布\n",
    "plt.subplot(2, 3, 5)\n",
    "plt.hist(actual_fuel, bins=30, alpha=0.7, label='实际')\n",
    "plt.hist(predicted_fuel, bins=30, alpha=0.7, label='预测最优')\n",
    "plt.title('燃油流量分布')\n",
    "plt.xlabel('燃油流量 (kg/h)')\n",
    "plt.ylabel('频次')\n",
    "plt.legend()\n",
    "\n",
    "# 累积燃油消耗\n",
    "plt.subplot(2, 3, 6)\n",
    "cumulative_actual = np.cumsum(actual_fuel) / 3600  # 转换为kg\n",
    "cumulative_predicted = np.cumsum(predicted_fuel) / 3600\n",
    "plt.plot(cumulative_actual, label='实际累积消耗')\n",
    "plt.plot(cumulative_predicted, label='预测最优累积消耗')\n",
    "plt.title('累积燃油消耗')\n",
    "plt.xlabel('时间点')\n",
    "plt.ylabel('累积燃油消耗 (kg)')\n",
    "plt.legend()\n",
    "\n",
    "plt.tight_layout()\n",
    "plt.show()\n",
    "\n",
    "# 计算总节省\n",
    "total_savings = (cumulative_actual[-1] - cumulative_predicted[-1])\n",
    "print(f\"\\n本次飞行总燃油节省潜力: {total_savings:.2f} kg\")\n",
    "print(f\"节省比例: {total_savings/cumulative_actual[-1]*100:.1f}%\")"
   ]
  },
  {
   "cell_type": "markdown",
   "metadata": {},
   "source": [
    "## 7. 总结报告"
   ]
  },
  {
   "cell_type": "code",
   "execution_count": null,
   "metadata": {},
   "outputs": [],
   "source": [
    "print(\"=\"*60)\n",
    "print(\"QAR数据分析系统演示总结报告\")\n",
    "print(\"=\"*60)\n",
    "\n",
    "print(f\"\\n📊 数据概况:\")\n",
    "print(f\"  • 飞行时长: {len(qar_data_with_anomalies)/60:.1f} 分钟\")\n",
    "print(f\"  • 数据点数: {len(qar_data_with_anomalies):,} 条\")\n",
    "print(f\"  • 参数数量: {len(qar_data_with_anomalies.columns)} 个\")\n",
    "print(f\"  • 最大高度: {qar_data_with_anomalies['ALT_STD'].max():,.0f} ft\")\n",
    "print(f\"  • 最大速度: {qar_data_with_anomalies['IAS'].max():.0f} kt\")\n",
    "\n",
    "print(f\"\\n🔍 安全性分析:\")\n",
    "print(f\"  • 异常检测: 发现 {n_anomalies} 个异常点 ({anomaly_rate:.1%})\")\n",
    "print(f\"  • 高风险时段: {safety_report['high_risk_periods']} 个\")\n",
    "print(f\"  • 主要风险因素: {max(safety_report['risk_factors'], key=safety_report['risk_factors'].get)}\")\n",
    "\n",
    "print(f\"\\n⛽ 燃油优化:\")\n",
    "print(f\"  • 平均燃油流量: {np.mean(actual_fuel):.0f} kg/h\")\n",
    "print(f\"  • 优化后预测: {np.mean(predicted_fuel):.0f} kg/h\")\n",
    "print(f\"  • 节省潜力: {fuel_savings:.0f} kg/h ({fuel_savings/np.mean(actual_fuel)*100:.1f}%)\")\n",
    "print(f\"  • 本次飞行可节省: {total_savings:.1f} kg\")\n",
    "\n",
    "print(f\"\\n✅ 系统功能验证:\")\n",
    "print(f\"  • ✓ QAR数据模拟生成\")\n",
    "print(f\"  • ✓ 多维度可视化分析\")\n",
    "print(f\"  • ✓ 异常检测与风险评估\")\n",
    "print(f\"  • ✓ 燃油优化建议\")\n",
    "print(f\"  • ✓ 机器学习模型集成\")\n",
    "\n",
    "print(\"\\n\" + \"=\"*60)\n",
    "print(\"演示完成！系统各项功能运行正常。\")\n",
    "print(\"=\"*60)"
   ]
  }
 ],
 "metadata": {
  "kernelspec": {
   "display_name": "Python 3",
   "language": "python",
   "name": "python3"
  },
  "language_info": {
   "codemirror_mode": {
    "name": "ipython",
    "version": 3
   },
   "file_extension": ".py",
   "mimetype": "text/x-python",
   "name": "python",
   "nbconvert_exporter": "python",
   "pygments_lexer": "ipython3",
   "version": "3.8.0"
  }
 },
 "nbformat": 4,
 "nbformat_minor": 4
}
